{
 "cells": [
  {
   "cell_type": "code",
   "execution_count": 1,
   "id": "a337d7bc",
   "metadata": {
    "ExecuteTime": {
     "end_time": "2023-07-08T12:28:02.187510200Z",
     "start_time": "2023-07-08T12:28:00.239824Z"
    }
   },
   "outputs": [],
   "source": [
    "import pandas as pd\n",
    "from ydata_profiling import ProfileReport"
   ]
  },
  {
   "cell_type": "code",
   "execution_count": 2,
   "outputs": [],
   "source": [
    "supply_chain_dataset = \"../resources/DataCoSupplyChainDataset.csv\"\n",
    "tokenized_access_logs = \"../resources/tokenized_access_logs.csv\""
   ],
   "metadata": {
    "collapsed": false,
    "ExecuteTime": {
     "end_time": "2023-07-08T12:28:02.194703100Z",
     "start_time": "2023-07-08T12:28:02.192181100Z"
    }
   }
  },
  {
   "cell_type": "code",
   "execution_count": 3,
   "id": "297493d9",
   "metadata": {
    "ExecuteTime": {
     "end_time": "2023-07-08T12:28:04.994828500Z",
     "start_time": "2023-07-08T12:28:02.248710900Z"
    }
   },
   "outputs": [],
   "source": [
    "# Read Data\n",
    "supply_chain_data = pd.read_csv(supply_chain_dataset, encoding='latin-1')\n",
    "access_logs_data = pd.read_csv(tokenized_access_logs, encoding='latin-1')"
   ]
  },
  {
   "cell_type": "code",
   "execution_count": 4,
   "id": "d0896727",
   "metadata": {
    "ExecuteTime": {
     "end_time": "2023-07-08T12:28:05.009408Z",
     "start_time": "2023-07-08T12:28:05.005882200Z"
    }
   },
   "outputs": [
    {
     "name": "stdout",
     "output_type": "stream",
     "text": [
      "CPU times: user 7.58 ms, sys: 0 ns, total: 7.58 ms\n",
      "Wall time: 7.27 ms\n"
     ]
    }
   ],
   "source": [
    "%%time\n",
    "supply_chain_profile = ProfileReport(supply_chain_data, title=\"Supply Chain Dataset\")"
   ]
  },
  {
   "cell_type": "code",
   "execution_count": 5,
   "id": "3b1d5752",
   "metadata": {
    "ExecuteTime": {
     "end_time": "2023-07-08T12:28:05.018639200Z",
     "start_time": "2023-07-08T12:28:05.015635300Z"
    }
   },
   "outputs": [
    {
     "name": "stdout",
     "output_type": "stream",
     "text": [
      "CPU times: user 704 µs, sys: 766 µs, total: 1.47 ms\n",
      "Wall time: 1.48 ms\n"
     ]
    }
   ],
   "source": [
    "%%time\n",
    "access_logs_profile = ProfileReport(access_logs_data)"
   ]
  },
  {
   "cell_type": "code",
   "execution_count": 8,
   "outputs": [
    {
     "data": {
      "text/plain": "Export report to file:   0%|          | 0/1 [00:00<?, ?it/s]",
      "application/vnd.jupyter.widget-view+json": {
       "version_major": 2,
       "version_minor": 0,
       "model_id": "c35723ea9c3a431eaf100db796af3c95"
      }
     },
     "metadata": {},
     "output_type": "display_data"
    }
   ],
   "source": [
    "access_logs_profile.to_file(tokenized_access_logs.replace(\"csv\", \"html\"))"
   ],
   "metadata": {
    "collapsed": false,
    "ExecuteTime": {
     "end_time": "2023-07-08T12:37:03.878160900Z",
     "start_time": "2023-07-08T12:37:03.823713300Z"
    }
   }
  },
  {
   "cell_type": "code",
   "execution_count": 7,
   "outputs": [
    {
     "data": {
      "text/plain": "Summarize dataset:   0%|          | 0/5 [00:00<?, ?it/s]",
      "application/vnd.jupyter.widget-view+json": {
       "version_major": 2,
       "version_minor": 0,
       "model_id": "88db6f9a00724cb19b1ac0a29a708c81"
      }
     },
     "metadata": {},
     "output_type": "display_data"
    },
    {
     "data": {
      "text/plain": "Generate report structure:   0%|          | 0/1 [00:00<?, ?it/s]",
      "application/vnd.jupyter.widget-view+json": {
       "version_major": 2,
       "version_minor": 0,
       "model_id": "16549b0e66ba455d81aa110dd9a27439"
      }
     },
     "metadata": {},
     "output_type": "display_data"
    },
    {
     "data": {
      "text/plain": "Render HTML:   0%|          | 0/1 [00:00<?, ?it/s]",
      "application/vnd.jupyter.widget-view+json": {
       "version_major": 2,
       "version_minor": 0,
       "model_id": "29e8e344bffc4e59b21e6bad21972939"
      }
     },
     "metadata": {},
     "output_type": "display_data"
    },
    {
     "data": {
      "text/plain": "Export report to file:   0%|          | 0/1 [00:00<?, ?it/s]",
      "application/vnd.jupyter.widget-view+json": {
       "version_major": 2,
       "version_minor": 0,
       "model_id": "32551c6f824b44c58db1711834af940b"
      }
     },
     "metadata": {},
     "output_type": "display_data"
    }
   ],
   "source": [
    "supply_chain_profile.to_file(tokenized_access_logs.replace(\"csv\", \"html\"))"
   ],
   "metadata": {
    "collapsed": false,
    "ExecuteTime": {
     "end_time": "2023-07-08T12:34:55.068084Z",
     "start_time": "2023-07-08T12:28:53.187672800Z"
    }
   }
  }
 ],
 "metadata": {
  "kernelspec": {
   "display_name": "Python 3",
   "language": "python",
   "name": "python3"
  },
  "language_info": {
   "codemirror_mode": {
    "name": "ipython",
    "version": 3
   },
   "file_extension": ".py",
   "mimetype": "text/x-python",
   "name": "python",
   "nbconvert_exporter": "python",
   "pygments_lexer": "ipython3",
   "version": "3.8.8"
  }
 },
 "nbformat": 4,
 "nbformat_minor": 5
}
